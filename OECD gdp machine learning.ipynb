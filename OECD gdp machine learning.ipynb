{
 "cells": [
  {
   "cell_type": "code",
   "execution_count": 6,
   "metadata": {},
   "outputs": [],
   "source": [
    "import matplotlib\n",
    "import matplotlib.pyplot as plt\n",
    "import numpy as np\n",
    "import pandas as pd\n",
    "import sklearn\n",
    "import sklearn.linear_model\n",
    "\n",
    "oecd_bli = pd.read_csv(r'C:\\Users\\Microsoft\\Desktop\\PYTHON\\codes\\handson-ml-master\\datasets\\lifesat\\oecd_bli_2015.csv')\n",
    "\n",
    "\n",
    "gdp_per_capita = pd.read_csv(r'C:\\Users\\Microsoft\\Desktop\\PYTHON\\codes\\handson-ml-master\\datasets\\lifesat\\gdp_per_capita.csv', encoding='latin1', na_values='n/a')\n",
    "\n",
    "\n",
    "def prepare_country_stats(oecd_bli,gdp_per_capita):\n",
    "\n",
    "  oecd_bli = oecd_bli[oecd_bli[\"INEQUALITY\"] == \"TOT\" ]\n",
    "\n",
    "\n",
    "  oecd_bli=oecd_bli.pivot_table(index=\"Country\",columns=\"Indicator\",values=\"Value\")\n",
    "\n",
    "\n",
    "  gdp_per_capita.rename(columns={\"2015\": \"GDP per capita\"}, inplace=True)\n",
    "\n",
    "\n",
    "  gdp_per_capita.set_index(\"Country\", inplace=True)\n",
    "\n",
    "\n",
    "  full_country_stats = pd.merge(left=oecd_bli, right=gdp_per_capita,left_index=True, right_index=True)\n",
    "\n",
    "  full_country_stats.sort_values(by=\"GDP per capita\", inplace=True )\n",
    "  return full_country_stats[[\"GDP per capita\", 'Life satisfaction']]\n",
    " "
   ]
  },
  {
   "cell_type": "code",
   "execution_count": 7,
   "metadata": {},
   "outputs": [],
   "source": [
    "country_stats = prepare_country_stats(oecd_bli, gdp_per_capita)\n",
    "x = np.c_[country_stats[\"GDP per capita\"]]\n",
    "y = np.c_[country_stats[\"Life satisfaction\"]]"
   ]
  },
  {
   "cell_type": "code",
   "execution_count": 8,
   "metadata": {},
   "outputs": [
    {
     "data": {
      "image/png": "[encoded data removed]",
      "text/plain": [
       "<Figure size 432x288 with 1 Axes>"
      ]
     },
     "metadata": {
      "needs_background": "light"
     },
     "output_type": "display_data"
    }
   ],
   "source": [
    "country_stats.plot(kind='scatter', x=\"GDP per capita\", y='Life satisfaction')\n",
    "plt.show()"
   ]
  },
  {
   "cell_type": "code",
   "execution_count": 9,
   "metadata": {},
   "outputs": [
    {
     "data": {
      "text/plain": [
       "LinearRegression()"
      ]
     },
     "execution_count": 9,
     "metadata": {},
     "output_type": "execute_result"
    }
   ],
   "source": [
    "model = sklearn.linear_model.LinearRegression()\n",
    "model.fit(x, y)"
   ]
  },
  {
   "cell_type": "code",
   "execution_count": 11,
   "metadata": {},
   "outputs": [
    {
     "name": "stdout",
     "output_type": "stream",
     "text": [
      "[[6.94417013]]\n"
     ]
    }
   ],
   "source": [
    "X_new = [[50961]]\n",
    "print(model.predict(X_new))"
   ]
  },
  {
   "cell_type": "code",
   "execution_count": 6,
   "metadata": {},
   "outputs": [
    {
     "data": {
      "text/plain": [
       "['Currently running servers:',\n",
       " 'http://localhost:8890/?token=c56f247358ad0c83724318377efeec1d951a84bd77d6deea :: C:\\\\Users\\\\Microsoft',\n",
       " 'http://localhost:8888/?token=e76580abfe867ba107b136c88939ffee63811e7144196a35 :: C:\\\\Users\\\\Microsoft',\n",
       " 'http://localhost:8889/?token=08c6f66239c53dd31447990aaf0ae474df888aa4e0f89703 :: C:\\\\Users\\\\Microsoft']"
      ]
     },
     "execution_count": 6,
     "metadata": {},
     "output_type": "execute_result"
    }
   ],
   "source": [
    "system(\"jupyter\" \"notebook\" \"list\")"
   ]
  }
 ],
 "metadata": {
  "kernelspec": {
   "display_name": "Python 3",
   "language": "python",
   "name": "python3"
  },
  "language_info": {
   "codemirror_mode": {
    "name": "ipython",
    "version": 3
   },
   "file_extension": ".py",
   "mimetype": "text/x-python",
   "name": "python",
   "nbconvert_exporter": "python",
   "pygments_lexer": "ipython3",
   "version": "3.8.3"
  }
 },
 "nbformat": 4,
 "nbformat_minor": 4
}
